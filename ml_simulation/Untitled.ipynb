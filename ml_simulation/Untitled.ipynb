{
 "cells": [
  {
   "cell_type": "code",
   "execution_count": 2,
   "id": "05380f16",
   "metadata": {},
   "outputs": [
    {
     "name": "stdout",
     "output_type": "stream",
     "text": [
      "2023-11-08 10:11:20,287 - climada.hazard.tc_tracks - WARNING - The cached IBTrACS data set dates from 2022-05-03 17:22:57 (older than 180 days). Very likely, a more recent version is available. Consider manually removing the file C:\\Users\\wertz\\climada\\data\\IBTrACS.ALL.v04r00.nc and re-running this function, which will download the most recent version of the IBTrACS data set from the official URL.\n",
      "2023-11-08 10:11:21,745 - climada.hazard.tc_tracks - WARNING - 918 storm events are discarded because no valid wind/pressure values have been found: 1992003N03176, 1992005S07172, 1992006S13134, 1992017S12198, 1992017S13196, ...\n"
     ]
    }
   ],
   "source": [
    "import numpy as np\n",
    "import pandas as pd\n",
    "import warnings\n",
    "\n",
    "warnings.filterwarnings(action='ignore', category=RuntimeWarning)\n",
    "from climada.hazard import TCTracks\n",
    "from climada.hazard import TropCyclone, Centroids\n",
    "# storm information\n",
    "data_provider = 'usa'  # set the data provider \"usa\" for default\n",
    "start_year = 1992  # start year in the range of years from which the hurricane data is required\n",
    "end_year = 2022  # end year in the range of years from which the hurricane data is required\n",
    "sub_basin = 'GM'  # can provide basin or sub-basin. Here, 'GM' refers to the gulf of mexico\n",
    "storm_id = '2017228N14314'  # For a specific hurricane\n",
    "time_report = 1  # set the hours of time stamps i.e. data is provided for every \"time_report\" hours\n",
    "\n",
    "# getting historic storm information from IBTrACS\n",
    "storm_track_all = TCTracks.from_ibtracs_netcdf(provider=data_provider, year_range=(start_year, end_year),\n",
    "                                               correct_pres=False)\n",
    "\n",
    "# computing total number of historic storms\n",
    "storm_number_total = storm_track_all.size\n",
    "\n",
    "# getting the list of all storms\n",
    "storm_track_all_list = storm_track_all.data\n",
    "\n",
    "# getting storm id, name and category dataframe\n",
    "storm_info_df = pd.DataFrame(columns=['Storm ID', 'Name', 'Category'])"
   ]
  },
  {
   "cell_type": "code",
   "execution_count": 3,
   "id": "7c447bf3",
   "metadata": {},
   "outputs": [
    {
     "name": "stdout",
     "output_type": "stream",
     "text": [
      "Empty DataFrame\n",
      "Columns: [Storm ID, Name, Category]\n",
      "Index: []\n"
     ]
    }
   ],
   "source": [
    "print(storm_info_df)"
   ]
  },
  {
   "cell_type": "code",
   "execution_count": null,
   "id": "b7c1d0b1",
   "metadata": {},
   "outputs": [],
   "source": []
  }
 ],
 "metadata": {
  "kernelspec": {
   "display_name": "Python 3 (ipykernel)",
   "language": "python",
   "name": "python3"
  },
  "language_info": {
   "codemirror_mode": {
    "name": "ipython",
    "version": 3
   },
   "file_extension": ".py",
   "mimetype": "text/x-python",
   "name": "python",
   "nbconvert_exporter": "python",
   "pygments_lexer": "ipython3",
   "version": "3.8.13"
  }
 },
 "nbformat": 4,
 "nbformat_minor": 5
}
